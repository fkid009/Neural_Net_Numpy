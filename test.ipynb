{
 "cells": [
  {
   "cell_type": "code",
   "execution_count": 2,
   "id": "54bbb181",
   "metadata": {},
   "outputs": [],
   "source": [
    "from src.Layer import DenseLayer"
   ]
  },
  {
   "cell_type": "code",
   "execution_count": 3,
   "id": "06a054b0",
   "metadata": {},
   "outputs": [],
   "source": [
    "X = [\n",
    "    [1, 2, 3, 2.5],\n",
    "    [2, 5, -1, 2],\n",
    "    [-1.5, 2.7, 3.3, -0.8]\n",
    "]"
   ]
  },
  {
   "cell_type": "code",
   "execution_count": 4,
   "id": "7480a100",
   "metadata": {},
   "outputs": [],
   "source": [
    "layer1 = DenseLayer(4, 5)\n",
    "layer2 = DenseLayer(5, 2)"
   ]
  },
  {
   "cell_type": "code",
   "execution_count": 10,
   "id": "2db575e4",
   "metadata": {},
   "outputs": [],
   "source": [
    "layer1.forward(X)\n",
    "layer1_outputs = layer1.outputs\n",
    "\n",
    "layer2.forward(layer1_outputs)\n",
    "layer2_outputs = layer2.outputs"
   ]
  },
  {
   "cell_type": "code",
   "execution_count": 11,
   "id": "204bd83f",
   "metadata": {},
   "outputs": [
    {
     "name": "stdout",
     "output_type": "stream",
     "text": [
      "[[-0.04652047 -0.04411557  0.18428123  0.09722572 -0.01638415]\n",
      " [-0.03786741  0.58795604  1.28681462 -0.61976193  0.23726401]\n",
      " [ 0.73181517  0.13602691  0.38969167  0.35945081 -0.49237831]]\n"
     ]
    }
   ],
   "source": [
    "print(layer1_outputs)"
   ]
  },
  {
   "cell_type": "code",
   "execution_count": 12,
   "id": "39e6dbe1",
   "metadata": {},
   "outputs": [
    {
     "name": "stdout",
     "output_type": "stream",
     "text": [
      "[[ 0.02376025 -0.01580848]\n",
      " [ 0.28448192  0.03119598]\n",
      " [ 0.14897932  0.13526153]]\n"
     ]
    }
   ],
   "source": [
    "print(layer2_outputs)"
   ]
  },
  {
   "cell_type": "code",
   "execution_count": 13,
   "id": "7d2c9853",
   "metadata": {},
   "outputs": [],
   "source": [
    "from src.Layer import ReLU, Sigmoid"
   ]
  },
  {
   "cell_type": "code",
   "execution_count": 17,
   "id": "108e5b7e",
   "metadata": {},
   "outputs": [
    {
     "name": "stdout",
     "output_type": "stream",
     "text": [
      "[[0.         0.         0.18428123 0.09722572 0.        ]\n",
      " [0.         0.58795604 1.28681462 0.         0.23726401]\n",
      " [0.73181517 0.13602691 0.38969167 0.35945081 0.        ]]\n"
     ]
    }
   ],
   "source": [
    "relu = ReLU()\n",
    "relu.forward(layer1_outputs)\n",
    "print(relu.outputs)"
   ]
  },
  {
   "cell_type": "code",
   "execution_count": 18,
   "id": "77fb4e5a",
   "metadata": {},
   "outputs": [
    {
     "name": "stdout",
     "output_type": "stream",
     "text": [
      "[[0.50593978 0.49604796]\n",
      " [0.57064468 0.50779836]\n",
      " [0.5371761  0.53376392]]\n"
     ]
    }
   ],
   "source": [
    "sigmoid = Sigmoid()\n",
    "sigmoid.forward(layer2_outputs)\n",
    "print(sigmoid.outputs)"
   ]
  },
  {
   "cell_type": "code",
   "execution_count": null,
   "id": "7cb78712",
   "metadata": {},
   "outputs": [],
   "source": []
  }
 ],
 "metadata": {
  "kernelspec": {
   "display_name": "venv",
   "language": "python",
   "name": "python3"
  },
  "language_info": {
   "codemirror_mode": {
    "name": "ipython",
    "version": 3
   },
   "file_extension": ".py",
   "mimetype": "text/x-python",
   "name": "python",
   "nbconvert_exporter": "python",
   "pygments_lexer": "ipython3",
   "version": "3.10.11"
  }
 },
 "nbformat": 4,
 "nbformat_minor": 5
}
