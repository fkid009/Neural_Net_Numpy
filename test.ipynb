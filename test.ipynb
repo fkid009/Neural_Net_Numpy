{
 "cells": [
  {
   "cell_type": "code",
   "execution_count": 1,
   "id": "54bbb181",
   "metadata": {},
   "outputs": [],
   "source": [
    "from src.Layer import DenseLayer"
   ]
  },
  {
   "cell_type": "code",
   "execution_count": 2,
   "id": "06a054b0",
   "metadata": {},
   "outputs": [],
   "source": [
    "X = [\n",
    "    [1, 2, 3, 2.5],\n",
    "    [2, 5, -1, 2],\n",
    "    [-1.5, 2.7, 3.3, -0.8]\n",
    "]"
   ]
  },
  {
   "cell_type": "code",
   "execution_count": 3,
   "id": "7480a100",
   "metadata": {},
   "outputs": [],
   "source": [
    "layer1 = DenseLayer(4, 5)\n",
    "layer2 = DenseLayer(5, 2)"
   ]
  },
  {
   "cell_type": "code",
   "execution_count": 4,
   "id": "2db575e4",
   "metadata": {},
   "outputs": [],
   "source": [
    "layer1.forward(X)\n",
    "layer1_outputs = layer1.outputs\n",
    "\n",
    "layer2.forward(layer1_outputs)\n",
    "layer2_outputs = layer2.outputs"
   ]
  },
  {
   "cell_type": "code",
   "execution_count": 5,
   "id": "204bd83f",
   "metadata": {},
   "outputs": [
    {
     "name": "stdout",
     "output_type": "stream",
     "text": [
      "[[ 0.39621336 -0.32035237  0.72224144 -1.37602369  0.47074672]\n",
      " [ 0.37640521 -1.3857836   0.77943457 -1.69288711  0.83886689]\n",
      " [ 0.43576213  0.48294233  0.6124425  -1.16707624 -0.23591141]]\n"
     ]
    }
   ],
   "source": [
    "print(layer1_outputs)"
   ]
  },
  {
   "cell_type": "code",
   "execution_count": 6,
   "id": "39e6dbe1",
   "metadata": {},
   "outputs": [
    {
     "name": "stdout",
     "output_type": "stream",
     "text": [
      "[[-0.1566059  -0.26503602]\n",
      " [-0.29374027 -0.41777353]\n",
      " [ 0.05228885 -0.14648758]]\n"
     ]
    }
   ],
   "source": [
    "print(layer2_outputs)"
   ]
  },
  {
   "cell_type": "code",
   "execution_count": null,
   "id": "7d2c9853",
   "metadata": {},
   "outputs": [],
   "source": []
  }
 ],
 "metadata": {
  "kernelspec": {
   "display_name": "venv",
   "language": "python",
   "name": "python3"
  },
  "language_info": {
   "codemirror_mode": {
    "name": "ipython",
    "version": 3
   },
   "file_extension": ".py",
   "mimetype": "text/x-python",
   "name": "python",
   "nbconvert_exporter": "python",
   "pygments_lexer": "ipython3",
   "version": "3.10.11"
  }
 },
 "nbformat": 4,
 "nbformat_minor": 5
}
